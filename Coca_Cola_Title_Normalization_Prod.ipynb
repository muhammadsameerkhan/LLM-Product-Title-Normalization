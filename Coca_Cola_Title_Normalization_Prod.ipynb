{
  "cells": [
    {
      "cell_type": "markdown",
      "metadata": {
        "id": "view-in-github",
        "colab_type": "text"
      },
      "source": [
        "<a href=\"https://colab.research.google.com/github/muhammadsameerkhan/LLM-Product-Title-Normalization/blob/master/Coca_Cola_Title_Normalization_Prod.ipynb\" target=\"_parent\"><img src=\"https://colab.research.google.com/assets/colab-badge.svg\" alt=\"Open In Colab\"/></a>"
      ]
    },
    {
      "cell_type": "code",
      "execution_count": null,
      "metadata": {
        "colab": {
          "base_uri": "https://localhost:8080/"
        },
        "collapsed": true,
        "id": "8EcSYki2J1Mj",
        "outputId": "1684be46-a3fd-4b5a-ad8a-2315c579cfe3"
      },
      "outputs": [
        {
          "output_type": "stream",
          "name": "stdout",
          "text": [
            "Collecting openai\n",
            "  Downloading openai-1.36.0-py3-none-any.whl (328 kB)\n",
            "\u001b[?25l     \u001b[90m━━━━━━━━━━━━━━━━━━━━━━━━━━━━━━━━━━━━━━━━\u001b[0m \u001b[32m0.0/328.7 kB\u001b[0m \u001b[31m?\u001b[0m eta \u001b[36m-:--:--\u001b[0m\r\u001b[2K     \u001b[91m━━━━━━━━━━━━━━━━━━━━━\u001b[0m\u001b[90m╺\u001b[0m\u001b[90m━━━━━━━━━━━━━━━━━━\u001b[0m \u001b[32m174.1/328.7 kB\u001b[0m \u001b[31m5.2 MB/s\u001b[0m eta \u001b[36m0:00:01\u001b[0m\r\u001b[2K     \u001b[90m━━━━━━━━━━━━━━━━━━━━━━━━━━━━━━━━━━━━━━━━\u001b[0m \u001b[32m328.7/328.7 kB\u001b[0m \u001b[31m6.2 MB/s\u001b[0m eta \u001b[36m0:00:00\u001b[0m\n",
            "\u001b[?25hRequirement already satisfied: anyio<5,>=3.5.0 in /usr/local/lib/python3.10/dist-packages (from openai) (3.7.1)\n",
            "Requirement already satisfied: distro<2,>=1.7.0 in /usr/lib/python3/dist-packages (from openai) (1.7.0)\n",
            "Collecting httpx<1,>=0.23.0 (from openai)\n",
            "  Downloading httpx-0.27.0-py3-none-any.whl (75 kB)\n",
            "\u001b[2K     \u001b[90m━━━━━━━━━━━━━━━━━━━━━━━━━━━━━━━━━━━━━━━━\u001b[0m \u001b[32m75.6/75.6 kB\u001b[0m \u001b[31m7.8 MB/s\u001b[0m eta \u001b[36m0:00:00\u001b[0m\n",
            "\u001b[?25hRequirement already satisfied: pydantic<3,>=1.9.0 in /usr/local/lib/python3.10/dist-packages (from openai) (2.8.2)\n",
            "Requirement already satisfied: sniffio in /usr/local/lib/python3.10/dist-packages (from openai) (1.3.1)\n",
            "Requirement already satisfied: tqdm>4 in /usr/local/lib/python3.10/dist-packages (from openai) (4.66.4)\n",
            "Requirement already satisfied: typing-extensions<5,>=4.7 in /usr/local/lib/python3.10/dist-packages (from openai) (4.12.2)\n",
            "Requirement already satisfied: idna>=2.8 in /usr/local/lib/python3.10/dist-packages (from anyio<5,>=3.5.0->openai) (3.7)\n",
            "Requirement already satisfied: exceptiongroup in /usr/local/lib/python3.10/dist-packages (from anyio<5,>=3.5.0->openai) (1.2.2)\n",
            "Requirement already satisfied: certifi in /usr/local/lib/python3.10/dist-packages (from httpx<1,>=0.23.0->openai) (2024.7.4)\n",
            "Collecting httpcore==1.* (from httpx<1,>=0.23.0->openai)\n",
            "  Downloading httpcore-1.0.5-py3-none-any.whl (77 kB)\n",
            "\u001b[2K     \u001b[90m━━━━━━━━━━━━━━━━━━━━━━━━━━━━━━━━━━━━━━━━\u001b[0m \u001b[32m77.9/77.9 kB\u001b[0m \u001b[31m7.3 MB/s\u001b[0m eta \u001b[36m0:00:00\u001b[0m\n",
            "\u001b[?25hCollecting h11<0.15,>=0.13 (from httpcore==1.*->httpx<1,>=0.23.0->openai)\n",
            "  Downloading h11-0.14.0-py3-none-any.whl (58 kB)\n",
            "\u001b[2K     \u001b[90m━━━━━━━━━━━━━━━━━━━━━━━━━━━━━━━━━━━━━━━━\u001b[0m \u001b[32m58.3/58.3 kB\u001b[0m \u001b[31m6.3 MB/s\u001b[0m eta \u001b[36m0:00:00\u001b[0m\n",
            "\u001b[?25hRequirement already satisfied: annotated-types>=0.4.0 in /usr/local/lib/python3.10/dist-packages (from pydantic<3,>=1.9.0->openai) (0.7.0)\n",
            "Requirement already satisfied: pydantic-core==2.20.1 in /usr/local/lib/python3.10/dist-packages (from pydantic<3,>=1.9.0->openai) (2.20.1)\n",
            "Installing collected packages: h11, httpcore, httpx, openai\n",
            "Successfully installed h11-0.14.0 httpcore-1.0.5 httpx-0.27.0 openai-1.36.0\n"
          ]
        }
      ],
      "source": [
        "!pip install --upgrade openai"
      ]
    },
    {
      "cell_type": "code",
      "execution_count": null,
      "metadata": {
        "colab": {
          "base_uri": "https://localhost:8080/"
        },
        "id": "2Ogo-kYhcv4X",
        "outputId": "013ccfe4-4b97-4821-ffda-9979710d0a4c"
      },
      "outputs": [
        {
          "output_type": "stream",
          "name": "stdout",
          "text": [
            "Requirement already satisfied: tqdm in /usr/local/lib/python3.10/dist-packages (4.66.4)\n"
          ]
        }
      ],
      "source": [
        "%pip install tqdm"
      ]
    },
    {
      "cell_type": "code",
      "execution_count": null,
      "metadata": {
        "id": "hPb4KIfHexMk"
      },
      "outputs": [],
      "source": [
        "import csv\n",
        "from openai import OpenAI\n",
        "import json\n",
        "from tqdm import tqdm\n",
        "api_key = \"\""
      ]
    },
    {
      "cell_type": "markdown",
      "metadata": {
        "id": "yPA5dyHKvVxD"
      },
      "source": [
        "**BrainStorming Approach**"
      ]
    },
    {
      "cell_type": "code",
      "execution_count": null,
      "metadata": {
        "id": "F-9vgBmMJEtS"
      },
      "outputs": [],
      "source": [
        "system_message_content = \"\"\"\n",
        "    You are an advanced large language model tasked to follow the user instructions strictly.\n",
        "    To perform the instructed task, learn the patterns from examples delimited by <<<>>>.\n",
        "    <<<>>>\n",
        "    Example 1: User input the title = 'Coca-Cola Zero Sugar Zero Koffeinfri 1,5 l'.\n",
        "    The approach I used to normalize the input title for example 1 is based on following steps:\n",
        "    First, I translated the whole title to make sure that I can easily understand each word.\n",
        "    Second, I used the translated title and looked into the ground_truth_flavors which are enclosed in triple commas ''' and tried to match the best\n",
        "    possible flavor to make sure that it meets the standard as per my organization.\n",
        "    Third, I removed and add the words in translated title to exactly match with ground_truth_flavor and kept other words as it was in translated title.\n",
        "    Fourth, After modifing the title in third step, I realized that the volume of drink doesn't look appropriate for display so I did some modifications.\n",
        "    Finally, my normalized title became => Coca-Cola Zero Koffeinfri 1.5 l.\n",
        "\n",
        "    Example 2: User input the title = 'Jag vill ha Coca-Cola på köpet'.\n",
        "    The approach I used to normalize the input title for example 2 is based on following steps:\n",
        "    First, I translated the whole title to make sure that I can easily understand each word.\n",
        "    Second, I used the translated title and try to figure out that is it appropriate for display and found out that it sounds like a sentence which\n",
        "    is not appropriate for a coca-cola product title display so, I removed the extra words and kept only Coca-cola. As there is no flavor or volume\n",
        "    otherwise I would keep them as well. The extracted version in this case, was => Coca-Cola\n",
        "    Third, I used the extracted version from second step and looked into the ground_truth_flavors which are enclosed in triple commas '''\n",
        "    and tried to match the best possible flavor to make sure that it meets the standard as per my organization.\n",
        "    Fourth, I modified the extracted version with the matched flavor from third step then my modified version was => Coca-Cola Original Taste\n",
        "    Finally, I again carefully examined this modified version for display purpose so I realized that it misses volume then I added 33 cl into the\n",
        "    modified version. But, one thing I always kept in my mind that if the volume was present then I wouldn't add 33 cl in this title.\n",
        "    In this way, my final normalized version looked like this => Coca-Cola Original Taste 33 cl\n",
        "\n",
        "    Example 3: User input the title = '1 Nduja och 1 Coca Cola'.\n",
        "    The approach I used to normalize the input title for example 3 is based on following steps:\n",
        "    First, I translated the whole title to make sure that I can easily understand each word.\n",
        "    Second, I used the translated title and try to figure out that is it appropriate for display and found out that it sounds like a deal meal which\n",
        "    is totally appropriate to display because restaurant could sell the coca-cola in deal, so, I decided to just modify the coca-cola title by keeping\n",
        "    rest of the words same.\n",
        "    Third, I used the translated title from first step and proceeded with my decision from second step. To modify the coca-cola title, I looked into the\n",
        "    ground_truth_flavors which are enclosed in triple commas ''' and tried to match the best possible flavor to make sure that it meets the standard as\n",
        "    per my organization.\n",
        "    Fourth, I modified the translated title with the best matched flavor from third step then my modified version was => 1 Nduja and 1 Coca-Cola Original Taste\n",
        "    Finally, I again carefully examined this modified version for display purpose so I realized that it misses volume then I added 33 cl into the\n",
        "    modified version. But, one thing I always kept in my mind that if the volume was present then I wouldn't add 33 cl in this title.\n",
        "    In this way, my final normalized version looked like this => 1 Nduja and 1 Coca-Cola Original Taste 33 cl\n",
        "\n",
        "    Example 4: User input the title = '1 Margherita + 1 Coca Cola/Zero'.\n",
        "    The approach I used to normalize the input title for example 4 is based on following steps:\n",
        "    First, I translated the whole title to make sure that I can easily understand each word.\n",
        "    Second, I used the translated title and try to figure out that is it appropriate for display and found out that it sounds like a deal meal which\n",
        "    is totally appropriate to display because restaurant could sell the coca-cola in deal. I realized that the Coca-cola in this case have forward\n",
        "    slash '/' which means that two versions of coca-cola are available in this deal, so, I decided to modify the both versions of coca-cola by keeping\n",
        "    rest of the words same.\n",
        "    Third, I used the translated title from first step and proceeded with my decision from second step. To modify the both versions of coca-cola, I\n",
        "    looked into the ground_truth_flavors which are enclosed in triple commas ''' and tried to match the best possible flavors with each version to make\n",
        "    sure that it meets the standard as per my organization.\n",
        "    Fourth, I modified the translated title with the best matched flavors from third step then my modified version\n",
        "    was => 1 Margherita + 1 Coca-Cola Original Taste/ Coca-Cola Zero\n",
        "    Finally, I again carefully examined this modified version for display purpose so I realized that infact there are two versions of coca-cola but there should\n",
        "    be volume present to clearly show the customer so, I added 33 cl into the modified version.  But, one thing I always kept in my mind that if the\n",
        "    volume was present then I wouldn't add 33 cl in this title.\n",
        "    In this way, my final normalized version looked like this => 1 Margherita + 1 Coca-Cola Original Taste/ Coca-Cola Zero 33 cl\n",
        "\n",
        "    Example 5: User input the title = 'Coca-Cola glasflaska 0,5 liters'.\n",
        "    The approach I used to normalize the input title for example 5 is based on following steps:\n",
        "    First, I translated the whole title to make sure that I can easily understand each word.\n",
        "    Second, I used the translated title and try to figure out that is it appropriate for display and found out that it sounds like a title with some\n",
        "    unnecassary words which don't make sense in display as its obvious, so, I decided to remove the unnecessary words from the translated title. In\n",
        "    this case the title after removing extra words looked like this 'Coca-Cola 0,5 liters'.\n",
        "    Third, I used the modified version from second step and looked into the ground_truth_flavors which are enclosed in triple commas ''' and tried\n",
        "    to match the best possible flavor to make sure that it meets the standard as per my organization as there is no flavor present in the modified version\n",
        "    so I would choose the 'Coca-Cola Original Taste' from ground_truth_flavors.\n",
        "    Fourth, I removed and add the words in modified version to exactly match with ground_truth_flavor and kept other words same as it was in modified version.\n",
        "    Finally, I carefully examined at my modified version from fourth step and realized that the volume of the drink doesn't look appropriate so I decided to convert it,\n",
        "    my final normalized title became => Coca-Cola Original Taste 50 cl.\n",
        "\n",
        "    <<<>>>\n",
        "\n",
        "    '''\n",
        "    Ground_Truth_Flavors:\n",
        "    {ground_truth}\n",
        "    '''\n",
        "\n",
        "    NOTE: Modify your normalized title by observing patterns from the following provided examples of user input titles on left side and their final normalized title on right side separated by '---'.\n",
        "    a. Coca-Cola / Pepsi --- Coca-Cola Original Taste/ Pepsi 33 cl (In this example, the volume of drink was missing and there was no explicit word which could be interpereted as volume, therefore we added base volume which is 33cl)\n",
        "    b. Coca-Cola Original Taste 1,5 liter --- Coca-Cola Original Taste 1.5L\n",
        "    c. Coca cola sockerfri 0,5 liter --- Coca-Cola Zero 50 cl\n",
        "    d. Coca-Cola Zero Sugar 1.5L --- Coca-Cola Zero 1.5L\n",
        "    e. Stor Coca Cola Zero --- Coca-Cola Zero 2L (In this example, Stor means Large so we interpret Large 2L volume of coca-cola)\n",
        "    f. Medium Coca Cola Zero --- Coca-Cola Zero 50 cl (In this example, medium is interpreted as 50cl)\n",
        "    g. Coca-Cola Zero Sugar 0kr --- Coca-Cola Zero 33cl (In this example, removed 0kr as it is unnecessary word and the volume was missing so added base volume which is 33cl)\n",
        "    h. Choose between Coca Cola/Zero/Sprite --- Coca Cola Original Taste/ Coca-Cola Zero/ Sprite (In this example, removed the extra words between and choose because by slashes(/) consumer can easily know it choosable)\n",
        "    i. Coca-Cola 1/5 l --- Coca-Cola Original Taste 1.5L\n",
        "    j. Coca Cola --- Coca-Cola Original Taste 33cl (In this example, there is no specific flavor given so I proceeded with base flavor which is 'Original Taste' then the volume of drink was missing and there was no explicit word which could be interpereted as volume, therefore we added base volume which is 33cl)\n",
        "    k. 70 Deluxe 4 Coca-Cola zero 2 Edamame --- 70 Deluxe 4 Coca-Cola Zero 33cl 2 Edamame (In this example, the volume of drink was missing and there was no explicit word which could be interpereted as volume, therefore we added base volume which is 33cl)\n",
        "    l. Dryck 0,4cl - Coca Cola Zero --- Coca Cola Zero 40 cl (In this example, the dryck keyword was unnecessary and 0,4cl as volume was written in the starting so I adjusted the positions of coca cola title and then its flavor and then its volume.)\n",
        "    m. Coca Cola Stor 2L --- Coca-Cola Original Taste 2L (In this example, base flavor is choosen as there was no explicit mention of flavor, Stor and 2L both represents the volume of this drink So I decided to proceed with numerical volume 2L, there is no need to write both stor and 2L)\n",
        "\n",
        "    Expected Output: Your output should be in JSON format: {response_format}\n",
        "  \"\"\""
      ]
    },
    {
      "cell_type": "code",
      "execution_count": null,
      "metadata": {
        "id": "sZNAyY94vU_E"
      },
      "outputs": [],
      "source": [
        "def brainstorming_approach(api_key, input_title, correct_titles, response_for, user_mes):\n",
        "\n",
        "    client = OpenAI(api_key=api_key)\n",
        "\n",
        "    system_message = system_message_content.format(ground_truth = correct_titles, response_format = response_for)\n",
        "\n",
        "    user_message = user_mes\n",
        "\n",
        "    response = client.chat.completions.create(\n",
        "      model=\"gpt-3.5-turbo\",\n",
        "      messages=[\n",
        "        {\"role\": \"system\", \"content\": system_message},\n",
        "        {\"role\": \"user\", \"content\": user_message}\n",
        "      ],\n",
        "      temperature = 0,\n",
        "      seed = 1234,\n",
        "      response_format={\"type\": \"json_object\"}\n",
        "    )\n",
        "\n",
        "    best_match = response.choices[0].message.content.strip()\n",
        "    return json.loads(best_match)"
      ]
    },
    {
      "cell_type": "code",
      "execution_count": null,
      "metadata": {
        "colab": {
          "background_save": true,
          "base_uri": "https://localhost:8080/"
        },
        "id": "TFXXCgsejfch",
        "outputId": "836c0d71-1504-4179-b08f-0a9fc39bdb5a"
      },
      "outputs": [
        {
          "name": "stderr",
          "output_type": "stream",
          "text": [
            "Processing Rows: 100%|██████████| 801/801 [29:51<00:00,  2.24s/row]"
          ]
        },
        {
          "name": "stdout",
          "output_type": "stream",
          "text": [
            "Matching completed and results saved to matched_titles.csv.\n"
          ]
        },
        {
          "name": "stderr",
          "output_type": "stream",
          "text": [
            "\n"
          ]
        }
      ],
      "source": [
        "# Load possible correct titles from CSV\n",
        "correct_titles = []\n",
        "with open('correct_titles.csv', mode='r') as infile:\n",
        "    reader = csv.DictReader(infile)\n",
        "    for row in reader:\n",
        "        correct_titles.append(row['correct_title'])\n",
        "\n",
        "correct_titles_string = \", \".join(correct_titles)\n",
        "\n",
        "# Open the output CSV file for writing matched titles\n",
        "with open('normalized_titles.csv', mode='w') as outfile:\n",
        "    fieldnames = ['input_title', 'normalized_title']\n",
        "    writer = csv.DictWriter(outfile, fieldnames=fieldnames)\n",
        "    writer.writeheader()\n",
        "\n",
        "    # norm_obj = []\n",
        "\n",
        "    with open('input_titles.csv', mode='r') as infile:\n",
        "\n",
        "        reader = list(csv.DictReader(infile))\n",
        "        total_rows = len(reader)\n",
        "\n",
        "        # Initialize tqdm progress bar\n",
        "        with tqdm(total=total_rows, desc=\"Processing Rows\", unit=\"row\") as pbar:\n",
        "            for row in reader:\n",
        "                input_title = row['input_title']\n",
        "                best_match = brainstorming_approach(api_key, input_title, correct_titles_string,\n",
        "                                    response_for=\"{ 'response' : '<<Your normalized title>>' }\",\n",
        "                                    user_mes=f\"Normalize the title: {input_title}\")\n",
        "\n",
        "                # norm_text = best_match.get('response')\n",
        "                # prediction = brainstorming_approach(api_key, norm_text, correct_titles_string,\n",
        "                #                     response_for=\"{ 'response' : '<<rate>>' }\",\n",
        "                #                     user_mes=f\"How much this title follows your learnt parameters: {norm_text}, rate out of 10\")\n",
        "\n",
        "                # norm_obj.append({ 'input_title' : input_title, 'normalized_title' : norm_text, 'predicted_rate' : prediction_rate.get('rate') })\n",
        "                writer.writerow({ 'input_title' : input_title, 'normalized_title' : best_match.get('response')})\n",
        "\n",
        "                # Update the progress bar\n",
        "                pbar.update(1)\n",
        "\n",
        "print(\"Matching completed and results saved to matched_titles.csv.\")"
      ]
    },
    {
      "cell_type": "code",
      "source": [
        "input_title = 'Coca-Cola Original Taste'\n",
        "best_match = brainstorming_approach(api_key, input_title, correct_titles_string,\n",
        "                                    response_for=\"{ 'response' : '<<Your normalized title>>' }\",\n",
        "                                    user_mes=f\"Normalize the title: {input_title}\")\n",
        "\n",
        "\n",
        "print(best_match.get('response'))"
      ],
      "metadata": {
        "id": "UQ_HVuA8tALE"
      },
      "execution_count": null,
      "outputs": []
    },
    {
      "cell_type": "markdown",
      "source": [
        "ACCURACY MESUREMENT"
      ],
      "metadata": {
        "id": "ePXl5sLnSiA6"
      }
    },
    {
      "cell_type": "code",
      "source": [
        "accuracy_check_prompt = \"\"\"\n",
        "  You are a detailed oriented large language model tasked to compare generated titles with ground truth labels.\n",
        "  The generated title: {generated_title}.\n",
        "  The ground truth label: {ground_truth}.\n",
        "\n",
        "  Expected Output: Your output should be in JSON format: {response_format}\n",
        "\"\"\""
      ],
      "metadata": {
        "id": "FBi5sAGFQbaO"
      },
      "execution_count": null,
      "outputs": []
    },
    {
      "cell_type": "code",
      "source": [
        "def testing(api_key, correct_title, generated_output , user_mes):\n",
        "\n",
        "    client = OpenAI(api_key=api_key)\n",
        "\n",
        "    system_message = accuracy_check_prompt.format(ground_truth = correct_title, generated_title = generated_output, response_format = \"{ 'accuracy' : 'your_calculated_accuracy' }\")\n",
        "\n",
        "    user_message = user_mes\n",
        "\n",
        "    response = client.chat.completions.create(\n",
        "      model=\"gpt-3.5-turbo\",\n",
        "      messages=[\n",
        "        {\"role\": \"system\", \"content\": system_message},\n",
        "        {\"role\": \"user\", \"content\": user_message}\n",
        "      ],\n",
        "      temperature = 0,\n",
        "      seed = 1234,\n",
        "      response_format={\"type\": \"json_object\"}\n",
        "    )\n",
        "\n",
        "    best_match = response.choices[0].message.content.strip()\n",
        "    return json.loads(best_match)"
      ],
      "metadata": {
        "id": "09lrJNhhQjYl"
      },
      "execution_count": null,
      "outputs": []
    },
    {
      "cell_type": "code",
      "source": [
        "usermessage = 'Compare the <generated title> with <ground truth lable> and calculate the accuracy percentage from 100%.'\n",
        "generated_title = 'Coca-Cola Zero 33 cl'\n",
        "ground_truth = 'Coca-Cola 33 CL'\n",
        "testing(api_key, ground_truth, generated_title, usermessage)"
      ],
      "metadata": {
        "colab": {
          "base_uri": "https://localhost:8080/"
        },
        "id": "AZR4jmeFRaRL",
        "outputId": "1aba9cc2-a3d9-461a-e200-3bd9f3dd90ac"
      },
      "execution_count": null,
      "outputs": [
        {
          "output_type": "execute_result",
          "data": {
            "text/plain": [
              "{'accuracy': '80%'}"
            ]
          },
          "metadata": {},
          "execution_count": 32
        }
      ]
    },
    {
      "cell_type": "code",
      "source": [],
      "metadata": {
        "id": "W7gNaJsiSloe"
      },
      "execution_count": null,
      "outputs": []
    }
  ],
  "metadata": {
    "colab": {
      "provenance": [],
      "include_colab_link": true
    },
    "kernelspec": {
      "display_name": "Python 3",
      "name": "python3"
    },
    "language_info": {
      "name": "python"
    }
  },
  "nbformat": 4,
  "nbformat_minor": 0
}